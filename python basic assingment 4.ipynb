{
 "cells": [
  {
   "cell_type": "code",
   "execution_count": null,
   "id": "3a312df6",
   "metadata": {},
   "outputs": [],
   "source": [
    "1 What exactly is []?"
   ]
  },
  {
   "cell_type": "code",
   "execution_count": null,
   "id": "aa5da803",
   "metadata": {},
   "outputs": [],
   "source": [
    "Ans.  [] represents an empty list in Python."
   ]
  },
  {
   "cell_type": "code",
   "execution_count": null,
   "id": "3c13bd74",
   "metadata": {},
   "outputs": [],
   "source": [
    "2. n a list of values stored in a variable called spam, how would you assign the value 'hello' as the third value? (Assume [2, 4, 6, 8, 10] are in spam.) "
   ]
  },
  {
   "cell_type": "code",
   "execution_count": 1,
   "id": "3971c8a1",
   "metadata": {},
   "outputs": [],
   "source": [
    "Ans.       spam=[2,4,6,8,10]"
   ]
  },
  {
   "cell_type": "code",
   "execution_count": 2,
   "id": "bb2d2156",
   "metadata": {},
   "outputs": [],
   "source": [
    "spam[2]=\"hello\""
   ]
  },
  {
   "cell_type": "code",
   "execution_count": 3,
   "id": "447f73df",
   "metadata": {},
   "outputs": [
    {
     "data": {
      "text/plain": [
       "[2, 4, 'hello', 8, 10]"
      ]
     },
     "execution_count": 3,
     "metadata": {},
     "output_type": "execute_result"
    }
   ],
   "source": [
    "spam"
   ]
  },
  {
   "cell_type": "code",
   "execution_count": null,
   "id": "0ca12149",
   "metadata": {},
   "outputs": [],
   "source": [
    "Let's pretend the spam includes the list ['a', 'b', 'c', 'd'] for the next three queries."
   ]
  },
  {
   "cell_type": "code",
   "execution_count": null,
   "id": "530e7b04",
   "metadata": {},
   "outputs": [],
   "source": [
    "3. What is the value of spam[int(int('3' * 2) / 11)]?"
   ]
  },
  {
   "cell_type": "code",
   "execution_count": null,
   "id": "be1ab24f",
   "metadata": {},
   "outputs": [],
   "source": [
    "Ans. \"d\""
   ]
  },
  {
   "cell_type": "code",
   "execution_count": null,
   "id": "bbc312f1",
   "metadata": {},
   "outputs": [],
   "source": [
    "4.What is the value of spam[-1]?\n",
    "spam[-1]"
   ]
  },
  {
   "cell_type": "code",
   "execution_count": 10,
   "id": "cecadac7",
   "metadata": {},
   "outputs": [],
   "source": [
    "spam=['a','b','c','d']"
   ]
  },
  {
   "cell_type": "code",
   "execution_count": 11,
   "id": "64af9066",
   "metadata": {},
   "outputs": [
    {
     "data": {
      "text/plain": [
       "'d'"
      ]
     },
     "execution_count": 11,
     "metadata": {},
     "output_type": "execute_result"
    }
   ],
   "source": [
    "spam[-1]"
   ]
  },
  {
   "cell_type": "code",
   "execution_count": null,
   "id": "b4fc5063",
   "metadata": {},
   "outputs": [],
   "source": [
    " 5.What is the value of spam[:2]?"
   ]
  },
  {
   "cell_type": "code",
   "execution_count": null,
   "id": "eb03b1b1",
   "metadata": {},
   "outputs": [],
   "source": [
    "spam=['a','b','c','d']"
   ]
  },
  {
   "cell_type": "code",
   "execution_count": 12,
   "id": "0511fe29",
   "metadata": {},
   "outputs": [
    {
     "data": {
      "text/plain": [
       "['a', 'b']"
      ]
     },
     "execution_count": 12,
     "metadata": {},
     "output_type": "execute_result"
    }
   ],
   "source": [
    "spam[:2]"
   ]
  },
  {
   "cell_type": "code",
   "execution_count": null,
   "id": "521669d4",
   "metadata": {},
   "outputs": [],
   "source": [
    "Let's pretend bacon has the list [3.14, 'cat,' 11, 'cat,' True] for the next three questions."
   ]
  },
  {
   "cell_type": "code",
   "execution_count": null,
   "id": "13482d1b",
   "metadata": {},
   "outputs": [],
   "source": [
    "bacon=[3.14, 'cat', 11, 'cat', True]"
   ]
  },
  {
   "cell_type": "code",
   "execution_count": null,
   "id": "10bcb1a5",
   "metadata": {},
   "outputs": [],
   "source": [
    "6. What is the value of bacon.index('cat')?"
   ]
  },
  {
   "cell_type": "code",
   "execution_count": null,
   "id": "33897e4d",
   "metadata": {},
   "outputs": [],
   "source": [
    "Ans.bacon.index('cat')\n",
    "so value is \"1\""
   ]
  },
  {
   "cell_type": "code",
   "execution_count": null,
   "id": "791e6417",
   "metadata": {},
   "outputs": [],
   "source": [
    "7. How does bacon.append(99) change the look of the list value in bacon?"
   ]
  },
  {
   "cell_type": "code",
   "execution_count": 6,
   "id": "71d3eb97",
   "metadata": {},
   "outputs": [],
   "source": [
    "bacon=[3.14,\"cat\",11,\"cat\",True]"
   ]
  },
  {
   "cell_type": "code",
   "execution_count": null,
   "id": "96118e41",
   "metadata": {},
   "outputs": [],
   "source": [
    "Ans. bacon=[3.14,\"cat\",11,\"cats\",True,99]\n"
   ]
  },
  {
   "cell_type": "code",
   "execution_count": 2,
   "id": "49b4e2b7",
   "metadata": {},
   "outputs": [],
   "source": [
    "bacon=[3.14,\"cat\",11,\"cat\",True]"
   ]
  },
  {
   "cell_type": "code",
   "execution_count": 3,
   "id": "ccc62ee2",
   "metadata": {},
   "outputs": [],
   "source": [
    "bacon.append(99)"
   ]
  },
  {
   "cell_type": "code",
   "execution_count": 4,
   "id": "48f4fa36",
   "metadata": {},
   "outputs": [
    {
     "data": {
      "text/plain": [
       "[3.14, 'cat', 11, 'cat', True, 99]"
      ]
     },
     "execution_count": 4,
     "metadata": {},
     "output_type": "execute_result"
    }
   ],
   "source": [
    "bacon"
   ]
  },
  {
   "cell_type": "code",
   "execution_count": null,
   "id": "a8a1c4b7",
   "metadata": {},
   "outputs": [],
   "source": [
    "9.What are the list concatenation and list replication operators?"
   ]
  },
  {
   "cell_type": "code",
   "execution_count": null,
   "id": "aef876a8",
   "metadata": {},
   "outputs": [],
   "source": [
    "Ans.  Operator used for list concatenation is +, whereas operator used for list replication is *.\n",
    "\n"
   ]
  },
  {
   "cell_type": "code",
   "execution_count": 5,
   "id": "3a23ea94",
   "metadata": {},
   "outputs": [
    {
     "data": {
      "text/plain": [
       "['hello', 'my', 'name', 'is', 'Himanshu']"
      ]
     },
     "execution_count": 5,
     "metadata": {},
     "output_type": "execute_result"
    }
   ],
   "source": [
    "# list concatenation\n",
    "\n",
    "list_a = ['hello', 'my', 'name']\n",
    "list_b = ['is', 'vivek']\n",
    "\n",
    "list_a + list_b"
   ]
  },
  {
   "cell_type": "code",
   "execution_count": 6,
   "id": "d88d1f58",
   "metadata": {},
   "outputs": [
    {
     "data": {
      "text/plain": [
       "['3', 'data', True, '3', 'data', True]"
      ]
     },
     "execution_count": 6,
     "metadata": {},
     "output_type": "execute_result"
    }
   ],
   "source": [
    "# list replication\n",
    "\n",
    "list_a = ['3', 'data', True]\n",
    "\n",
    "list_a*2"
   ]
  },
  {
   "cell_type": "code",
   "execution_count": null,
   "id": "f6fea8b4",
   "metadata": {},
   "outputs": [],
   "source": [
    "10.What is difference between the list methods append() and insert()?"
   ]
  },
  {
   "cell_type": "code",
   "execution_count": null,
   "id": "21091451",
   "metadata": {},
   "outputs": [],
   "source": [
    "Ans.Append inserts an element to the end of the list, whereas insert method make use of index parameter to insert an element in the list."
   ]
  },
  {
   "cell_type": "code",
   "execution_count": null,
   "id": "1e6247ed",
   "metadata": {},
   "outputs": [],
   "source": [
    "11.What are the two methods for removing items from a list?"
   ]
  },
  {
   "cell_type": "code",
   "execution_count": null,
   "id": "935e06f6",
   "metadata": {},
   "outputs": [],
   "source": [
    " Ans. The del statement and the remove() list method are two ways to remove values from a list."
   ]
  },
  {
   "cell_type": "code",
   "execution_count": 8,
   "id": "6d54f407",
   "metadata": {},
   "outputs": [],
   "source": [
    "#define a list\n",
    "my_code=[\"school\",\"alcohol\",\"knowldge\",\"college\",\"degree\",\"beer\",]"
   ]
  },
  {
   "cell_type": "code",
   "execution_count": 9,
   "id": "d7c7c99a",
   "metadata": {},
   "outputs": [],
   "source": [
    "#removing the method       \n",
    "\n",
    " my_code.remove(\"beer\")\n"
   ]
  },
  {
   "cell_type": "code",
   "execution_count": 10,
   "id": "341fa37e",
   "metadata": {},
   "outputs": [
    {
     "data": {
      "text/plain": [
       "['school', 'alcohol', 'knowldge', 'college', 'degree']"
      ]
     },
     "execution_count": 10,
     "metadata": {},
     "output_type": "execute_result"
    }
   ],
   "source": [
    "my_code"
   ]
  },
  {
   "cell_type": "code",
   "execution_count": 15,
   "id": "7988517a",
   "metadata": {},
   "outputs": [
    {
     "data": {
      "text/plain": [
       "['school', 'knowldge', 'college', 'degree']"
      ]
     },
     "execution_count": 15,
     "metadata": {},
     "output_type": "execute_result"
    }
   ],
   "source": [
    "# using del, removes specific index\n",
    "del my_code[1]\n",
    "my_code"
   ]
  },
  {
   "cell_type": "code",
   "execution_count": null,
   "id": "fc7658e9",
   "metadata": {},
   "outputs": [],
   "source": [
    "12. Describe how list values and string values are identical."
   ]
  },
  {
   "cell_type": "code",
   "execution_count": null,
   "id": "18a3d211",
   "metadata": {},
   "outputs": [],
   "source": [
    "Both lists and strings can be passed to len(), have indexes and slices, be used in for loops, be concatenated or replicated, and be used with the in and not in operators."
   ]
  },
  {
   "cell_type": "code",
   "execution_count": null,
   "id": "88154aeb",
   "metadata": {},
   "outputs": [],
   "source": [
    "13. What's the difference between tuples and lists?"
   ]
  },
  {
   "cell_type": "code",
   "execution_count": 17,
   "id": "e6faf18d",
   "metadata": {},
   "outputs": [],
   "source": [
    "# Lists are mutable; they can have values added, removed, or changed. \n",
    "# Tuples are immutable; they cannot be changed at all.   \n",
    " \n",
    "#Also, tuples are written using parentheses, ( and ), while lists use the square brackets, [ and ].\n",
    "   \n"
   ]
  },
  {
   "cell_type": "code",
   "execution_count": 18,
   "id": "7793f19b",
   "metadata": {},
   "outputs": [],
   "source": [
    "my_list = [1,2,3,4]\n",
    "my_tuple = (1,2,3,4)"
   ]
  },
  {
   "cell_type": "code",
   "execution_count": 22,
   "id": "e89a008e",
   "metadata": {},
   "outputs": [],
   "source": [
    "my_list[0]=0"
   ]
  },
  {
   "cell_type": "code",
   "execution_count": 23,
   "id": "d8cd1bf1",
   "metadata": {},
   "outputs": [
    {
     "data": {
      "text/plain": [
       "[0, 2, 3, 5]"
      ]
     },
     "execution_count": 23,
     "metadata": {},
     "output_type": "execute_result"
    }
   ],
   "source": [
    "my_list"
   ]
  },
  {
   "cell_type": "code",
   "execution_count": 24,
   "id": "c354be9b",
   "metadata": {},
   "outputs": [
    {
     "ename": "TypeError",
     "evalue": "'tuple' object does not support item assignment",
     "output_type": "error",
     "traceback": [
      "\u001b[1;31m---------------------------------------------------------------------------\u001b[0m",
      "\u001b[1;31mTypeError\u001b[0m                                 Traceback (most recent call last)",
      "\u001b[1;32m~\\AppData\\Local\\Temp/ipykernel_28496/2051022535.py\u001b[0m in \u001b[0;36m<module>\u001b[1;34m\u001b[0m\n\u001b[1;32m----> 1\u001b[1;33m \u001b[0mmy_tuple\u001b[0m\u001b[1;33m[\u001b[0m\u001b[1;36m0\u001b[0m\u001b[1;33m]\u001b[0m\u001b[1;33m=\u001b[0m\u001b[1;36m85\u001b[0m\u001b[1;33m\u001b[0m\u001b[1;33m\u001b[0m\u001b[0m\n\u001b[0m",
      "\u001b[1;31mTypeError\u001b[0m: 'tuple' object does not support item assignment"
     ]
    }
   ],
   "source": [
    "my_tuple[0]=85,    #tuple' object does not support item assignment"
   ]
  },
  {
   "cell_type": "code",
   "execution_count": null,
   "id": "f857aafb",
   "metadata": {},
   "outputs": [],
   "source": [
    "14.How do you type a tuple value that only contains the integer 42?\n",
    "\n",
    "Solution"
   ]
  },
  {
   "cell_type": "code",
   "execution_count": 2,
   "id": "f5f8e0f6",
   "metadata": {},
   "outputs": [
    {
     "data": {
      "text/plain": [
       "(42,)"
      ]
     },
     "execution_count": 2,
     "metadata": {},
     "output_type": "execute_result"
    }
   ],
   "source": [
    "(42,)"
   ]
  },
  {
   "cell_type": "code",
   "execution_count": null,
   "id": "c9638f13",
   "metadata": {},
   "outputs": [],
   "source": [
    " 15.How do you get a list value's tuple form? How do you get a tuple value's list form"
   ]
  },
  {
   "cell_type": "code",
   "execution_count": 6,
   "id": "0555119a",
   "metadata": {},
   "outputs": [
    {
     "name": "stdout",
     "output_type": "stream",
     "text": [
      "(1, 2, 3, 4)\n"
     ]
    }
   ],
   "source": [
    "#Ans.\n",
    "my_list = [1,2,3,4]\n",
    "print(tuple(my_list))"
   ]
  },
  {
   "cell_type": "code",
   "execution_count": 7,
   "id": "301cbad1",
   "metadata": {},
   "outputs": [
    {
     "name": "stdout",
     "output_type": "stream",
     "text": [
      "[1, 2, 3, 4]\n"
     ]
    }
   ],
   "source": [
    "my_tuple = (1,2,3,4)\n",
    "print(list(my_tuple))"
   ]
  },
  {
   "cell_type": "code",
   "execution_count": null,
   "id": "ad3add98",
   "metadata": {},
   "outputs": [],
   "source": [
    "16.Variables that contain list values are not necessarily lists themselves. Instead, what do they contain?\n",
    "\n",
    "Solution"
   ]
  },
  {
   "cell_type": "code",
   "execution_count": null,
   "id": "80ec5db6",
   "metadata": {},
   "outputs": [],
   "source": [
    " Ans. Variables do not store values directly.\n",
    "\n",
    "Python variables work with references to objects representing the values.\n",
    "\n",
    "For example, we have\n",
    "\n",
    "a = [1,2,3]\n",
    "\n",
    "Python creates a new reference for a to point at the object representing the value [1,2,3] in the memory."
   ]
  },
  {
   "cell_type": "code",
   "execution_count": null,
   "id": "33a599e7",
   "metadata": {},
   "outputs": [],
   "source": [
    " 17.How do you distinguish between copy.copy() and copy.deepcopy()?"
   ]
  },
  {
   "cell_type": "code",
   "execution_count": null,
   "id": "6cd5bb1a",
   "metadata": {},
   "outputs": [],
   "source": [
    "Ans.The copy.copy() function will do a shallow copy of a list, while the copy.deepcopy() function will do a deep copy of a list. That is, only copy.deepcopy() will duplicate any lists inside the list."
   ]
  },
  {
   "cell_type": "code",
   "execution_count": null,
   "id": "464d8153",
   "metadata": {},
   "outputs": [],
   "source": []
  }
 ],
 "metadata": {
  "kernelspec": {
   "display_name": "Python 3 (ipykernel)",
   "language": "python",
   "name": "python3"
  },
  "language_info": {
   "codemirror_mode": {
    "name": "ipython",
    "version": 3
   },
   "file_extension": ".py",
   "mimetype": "text/x-python",
   "name": "python",
   "nbconvert_exporter": "python",
   "pygments_lexer": "ipython3",
   "version": "3.9.7"
  }
 },
 "nbformat": 4,
 "nbformat_minor": 5
}
